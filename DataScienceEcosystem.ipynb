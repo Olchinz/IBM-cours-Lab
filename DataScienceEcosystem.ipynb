{
 "cells": [
  {
   "cell_type": "markdown",
   "id": "2adb1022-08cc-4433-9f90-c9d8d85fd565",
   "metadata": {},
   "source": [
    "<center>\n",
    "    <img src=\"https://cf-courses-data.s3.us.cloud-object-storage.appdomain.cloud/IBMDeveloperSkillsNetwork-DS0105EN-SkillsNetwork/labs/Module2/images/SN_web_lightmode.png\" width=\"300\" alt=\"cognitiveclass.ai logo\">\n",
    "</center>"
   ]
  },
  {
   "cell_type": "markdown",
   "id": "caa7e684-5ea7-412f-855f-731feef5060c",
   "metadata": {},
   "source": [
    "#### Add your code below following the instructions given in the course"
   ]
  },
  {
   "cell_type": "markdown",
   "id": "ea0c0a3a-c477-4e16-a346-8a4e49f0fec4",
   "metadata": {},
   "source": [
    "**Exercise 1: Create a Jupyter Notebook**\n",
    "\n",
    "**Create a new Jupyter notebook called DataScienceEcosystem.ipynb**"
   ]
  },
  {
   "cell_type": "markdown",
   "id": "47338864-1165-41ac-89ab-8e9ec3ef2cf6",
   "metadata": {},
   "source": [
    "**Exercise 2: Create markdown cell with title of the notebook**\n",
    "\n",
    "**Create a markdown cell with the title Data Science Tools and Ecosystem using H1 style heading.**\n",
    "**Take a screenshot of the markdown cell and name it as 2-title.png (Images can be saved with either the .jpg or .png extension.)**"
   ]
  },
  {
   "cell_type": "markdown",
   "id": "9b505d6c-fe08-439a-be0c-cd8d9099c0f3",
   "metadata": {},
   "source": [
    "# Data Science Tools and Ecosystem"
   ]
  },
  {
   "cell_type": "markdown",
   "id": "5e02734d-d920-477f-9aa4-ca1445239773",
   "metadata": {},
   "source": [
    "**Exercise 3 - Create a markdown cell for an introduction**\n",
    "\n",
    "**Write an introductory sentence about the notebook such as the follows:**\n",
    "\n",
    "_In this notebook, Data Science Tools and Ecosystem are summarized._\n",
    "**Take a screenshot of the markdown cell and name it as 3-intro.png**"
   ]
  },
  {
   "cell_type": "markdown",
   "id": "ea424c1b-4c4b-4f6b-913b-7f0085c4eff7",
   "metadata": {},
   "source": [
    "In this notebook, Data Science Tools and Ecosystem are summarized."
   ]
  },
  {
   "cell_type": "markdown",
   "id": "0cc4c9e0-7fc1-431f-a13a-46a6007d8177",
   "metadata": {},
   "source": [
    "**Objectives:**\n",
    " - List popular languages for Data Science.\n",
    " - List some of the commonly used libraries used by Data Scientists.\n",
    " - Create a code cells to demonstrate some simple arithmetic expressions in Python."
   ]
  },
  {
   "cell_type": "markdown",
   "id": "ed654d87-b98f-4eda-a145-d46543f1f48d",
   "metadata": {},
   "source": [
    "**Exercise 10 - Insert a markdown cell to list Objectives**\n",
    "\n",
    "**Below the introduction cell created in Exercise 3, insert a new markdown cell to list the objectives that this notebook covered (i.e. some of the key takeaways from the course). In this new cell start with an introductory line titled: Objectives: in bold font. Then using an unordered list (bullets) indicate 3 to 5 items covered in this notebook, such as List popular languages for Data Science.**\n",
    "**Take a screenshot of the markdown cell and name it as 10-objectives.png (Images can be saved with either the .jpg or .png extension.)**\n"
   ]
  },
  {
   "cell_type": "markdown",
   "id": "ec199eab-c929-466f-85aa-675f7ce39c90",
   "metadata": {},
   "source": [
    "**Exercise 4 - Create a markdown cell to list data science languages**\n",
    "\n",
    "**Start the cell with an overview line such as:**\n",
    "\n",
    "_Some of the popular languages that Data Scientists use are:_\n",
    "**Then create an ordered list (i.e. numbered) listing 3 (or more) commonly used languages for data science.**\n",
    "**Take a screenshot of the markdown cell and name it as 4-dslanguages.png**"
   ]
  },
  {
   "cell_type": "markdown",
   "id": "3186bcf5-b74a-4578-b1a4-f47f3722fcb4",
   "metadata": {},
   "source": [
    "Some of the popular languages that Data Scientists use are:\n",
    "1. Python\n",
    "2. R\n",
    "3. Julia\n",
    "4. SQL\n",
    "5. Scala"
   ]
  },
  {
   "cell_type": "markdown",
   "id": "df3eb388-0d2a-4311-b40f-62d4dab9a430",
   "metadata": {},
   "source": [
    "**Exercise 5 - Create a markdown cell to list data science libraries**\n",
    "\n",
    "**Add an overview line to the cell like:**\n",
    "\n",
    "_Some of the commonly used libraries used by Data Scientists include:_\n",
    "**Below this line add an ordered list listing 3 (or more) commonly used libraries in data science.**\n",
    "**Take a screenshot of the markdown cell and name it as 5-dslibraries.png**"
   ]
  },
  {
   "cell_type": "markdown",
   "id": "386a363b-3558-4025-bdb1-eec162ea842f",
   "metadata": {},
   "source": [
    "Some of the commonly used libraries used by Data Scientists include:\n",
    "1. NumPy\n",
    "2. Pandas\n",
    "3. caret\n",
    "4. ggplot"
   ]
  },
  {
   "cell_type": "markdown",
   "id": "3ce72c22-625b-4afc-891b-6a8d7653087f",
   "metadata": {},
   "source": [
    "**Exercise 6 - Create a markdown cell with a table of Data Science tools**\n",
    "\n",
    "**Create a single column table in this cell with the first row containing the header Data Science Tools. The subsequent three rows in the table should indicate three development environment open source tools used in data science.**\n",
    "\n",
    "**Take a screenshot of the markdown cell and name it as 6-dstools.png**"
   ]
  },
  {
   "cell_type": "markdown",
   "id": "5c0fac6e-0eeb-4ace-b665-25aaa4440438",
   "metadata": {},
   "source": [
    "|Data Science Tools|\n",
    "---\n",
    "|Hadoop|\n",
    "|Weka|\n",
    "|Tensor Flow|"
   ]
  },
  {
   "cell_type": "markdown",
   "id": "69621c15-38d0-44e7-937b-7b26e2cde672",
   "metadata": {},
   "source": [
    "**Exercise 7 - Create a markdown cell introducing arithmetic expression examples**\n",
    "\n",
    "**Add a line in this cell with H3 style heading with text like:**\n",
    "\n",
    "_Below are a few examples of evaluating arithmetic expressions in Python._\n",
    "**Take a screenshot of the markdown cell and name it as 7-introarithmetic.png**"
   ]
  },
  {
   "cell_type": "markdown",
   "id": "f5655d99-7b0b-4a24-bf1b-199d5aecc94d",
   "metadata": {},
   "source": [
    "### Below are a few examples of evaluating arithmetic expressions in Python."
   ]
  },
  {
   "cell_type": "markdown",
   "id": "d00d380d-0231-4f8a-8d7a-04ba7a726b2f",
   "metadata": {},
   "source": [
    "**Exercise 8 - Create a code cell to multiply and add numbers**\n",
    "\n",
    "**In this code cell evaluate the expression (3*4)+5.**\n",
    "**Insert a comment line before the expression to explain the operation e.g.  _This a simple arithmetic expression to mutiply then add integers._**\n",
    "**Then execute the cell to ensure the expression returns the expected output of 17.**\n",
    "**Take a screenshot of the code cell with output and name it as 8-multiplyandaddintegers.png**"
   ]
  },
  {
   "cell_type": "code",
   "execution_count": 53,
   "id": "c4583a5a-3c91-4376-912a-c39ceed568ac",
   "metadata": {},
   "outputs": [
    {
     "data": {
      "text/plain": [
       "17"
      ]
     },
     "execution_count": 53,
     "metadata": {},
     "output_type": "execute_result"
    }
   ],
   "source": [
    "## This a simple arithmetic expression to mutiply then add integers. \n",
    "(3*4)+5"
   ]
  },
  {
   "cell_type": "markdown",
   "id": "125bdd91-d41b-4c36-9979-e51c5300a0b1",
   "metadata": {},
   "source": [
    "**Exercise 9 - Create a code cell to convert minutes to hours**\n",
    "\n",
    "**In this code cell write an expression that converts 200 minutes into hours.**\n",
    "**Insert a comment line before the expression to explain the operation e.g.  _This will convert 200 minutes to hours by diving by 60._**\n",
    "**Run the cell to evaluate the expression.**\n",
    "**Take a screenshot of the code cell with output and name it as 9-hourstominutes.png**"
   ]
  },
  {
   "cell_type": "code",
   "execution_count": 55,
   "id": "ca2362d5-5337-4d70-b262-a0150feae130",
   "metadata": {},
   "outputs": [
    {
     "data": {
      "text/plain": [
       "3.33"
      ]
     },
     "execution_count": 55,
     "metadata": {},
     "output_type": "execute_result"
    }
   ],
   "source": [
    "## This will convert 200 minutes to hours by diving by 60.\n",
    "round((200 / 60), 2)"
   ]
  },
  {
   "cell_type": "markdown",
   "id": "5b9c9c23-b28f-4c83-9875-ffb99f3117f2",
   "metadata": {},
   "source": [
    "**Exercise 11 - Create a markdown cell to indicate the Author's name**\n",
    "\n",
    "**In this markdown cell include the following text Author in H2 style heading. Include your name as regular text below the word Author.**\n",
    "**Take a screenshot of the markdown cell and name it as 11-authordetails.png**"
   ]
  },
  {
   "cell_type": "markdown",
   "id": "0e89e52d-aa98-4e25-8c95-b5b5ac5bfb40",
   "metadata": {},
   "source": [
    "## Author\n",
    "Olha Sidelnykova"
   ]
  },
  {
   "cell_type": "markdown",
   "id": "e1873624-02b8-4576-bc3b-f2434dc9fd5a",
   "metadata": {},
   "source": []
  }
 ],
 "metadata": {
  "kernelspec": {
   "display_name": "Python 3 (ipykernel)",
   "language": "python",
   "name": "python3"
  },
  "language_info": {
   "codemirror_mode": {
    "name": "ipython",
    "version": 3
   },
   "file_extension": ".py",
   "mimetype": "text/x-python",
   "name": "python",
   "nbconvert_exporter": "python",
   "pygments_lexer": "ipython3",
   "version": "3.11.7"
  }
 },
 "nbformat": 4,
 "nbformat_minor": 5
}
